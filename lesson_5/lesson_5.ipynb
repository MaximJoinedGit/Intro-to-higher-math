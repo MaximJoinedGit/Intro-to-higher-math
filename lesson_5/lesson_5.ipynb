{
 "cells": [
  {
   "cell_type": "markdown",
   "metadata": {},
   "source": [
    "# **<center>Введение в высшую математику. Урок 5.</center><hr>**"
   ]
  },
  {
   "cell_type": "markdown",
   "metadata": {},
   "source": [
    "## **<center>Элементы теории вероятностей</center>**"
   ]
  },
  {
   "cell_type": "markdown",
   "metadata": {},
   "source": [
    "#### 1. Напишите код, моделирующий выпадение поля в рулетке (с учетом поля зеро)."
   ]
  },
  {
   "cell_type": "code",
   "execution_count": 1,
   "metadata": {},
   "outputs": [],
   "source": [
    "import numpy as np"
   ]
  },
  {
   "cell_type": "code",
   "execution_count": 2,
   "metadata": {},
   "outputs": [
    {
     "name": "stdout",
     "output_type": "stream",
     "text": [
      "Выпало число 32 краное\n"
     ]
    }
   ],
   "source": [
    "num = int(np.random.uniform(0, 37))\n",
    "if num == 0:\n",
    "    print('Выпал ноль')\n",
    "elif num in [32, 19, 21, 25, 34, 27, 36, 30, 23, 5, 16, 1, 14, 9, 18, 7, 12, 3]:\n",
    "    print(f'Выпало число {num} краное')\n",
    "else:\n",
    "    print(f'Выпало число {num} черное')"
   ]
  },
  {
   "cell_type": "markdown",
   "metadata": {},
   "source": [
    "#### 2.1 Напишите код, проверяющий любую из теорем сложения или умножения вероятности на примере рулетки или подбрасывания монетки."
   ]
  },
  {
   "cell_type": "markdown",
   "metadata": {},
   "source": [
    "Дополним код в задаче выше счетчиком, который будет подсчитывать количество раз, сколько выпало черное число, красное или же ноль."
   ]
  },
  {
   "cell_type": "code",
   "execution_count": 3,
   "metadata": {},
   "outputs": [],
   "source": [
    "red, black, zero = 0, 0, 0\n",
    "n = 1000\n",
    "for _ in range(n):\n",
    "    num = int(np.random.uniform(0, 37))\n",
    "    if num == 0:\n",
    "    #     print('Выпал ноль')\n",
    "        zero += 1\n",
    "    elif num in [32, 19, 21, 25, 34, 27, 36, 30, 23, 5, 16, 1, 14, 9, 18, 7, 12, 3]:\n",
    "    #     print(f'Выпало число {num} краное')\n",
    "        red += 1\n",
    "    else:\n",
    "    #     print(f'Выпало число {num} черное')\n",
    "        black += 1"
   ]
  },
  {
   "cell_type": "code",
   "execution_count": 4,
   "metadata": {},
   "outputs": [
    {
     "name": "stdout",
     "output_type": "stream",
     "text": [
      "Красное поле выпало 472 раз, черное 505 раз и ноль выпал 23 раз\n"
     ]
    }
   ],
   "source": [
    "print(f'Красное поле выпало {red} раз, черное {black} раз и ноль выпал {zero} раз')"
   ]
  },
  {
   "cell_type": "markdown",
   "metadata": {},
   "source": [
    "Данные события являются несовместными, т.к. за одну итерацию может выпасть только одно число. Поэтому мы можем применить теорему сложения вероятнотей для всех трех исходов. Каждую из вероятностей можно найти как отношение благоприятных исходов для конкретной группы, деленное на общее количество итераций."
   ]
  },
  {
   "cell_type": "code",
   "execution_count": 5,
   "metadata": {},
   "outputs": [],
   "source": [
    "chance_red = red / n\n",
    "chance_black = black / n\n",
    "chance_zero = zero / n"
   ]
  },
  {
   "cell_type": "markdown",
   "metadata": {},
   "source": [
    "Сумма всех вероятностей должна быть равна нулю."
   ]
  },
  {
   "cell_type": "code",
   "execution_count": 6,
   "metadata": {},
   "outputs": [
    {
     "data": {
      "text/plain": [
       "1.0"
      ]
     },
     "execution_count": 6,
     "metadata": {},
     "output_type": "execute_result"
    }
   ],
   "source": [
    "chance_red + chance_black + chance_zero"
   ]
  },
  {
   "cell_type": "markdown",
   "metadata": {},
   "source": [
    "#### 2.2 Сгенерируйте десять выборок случайных чисел х0, …, х9 и постройте гистограмму распределения случайной суммы х0+х1+ …+ х9."
   ]
  },
  {
   "cell_type": "code",
   "execution_count": 7,
   "metadata": {},
   "outputs": [],
   "source": [
    "import matplotlib.pyplot as plt"
   ]
  },
  {
   "cell_type": "code",
   "execution_count": 8,
   "metadata": {},
   "outputs": [],
   "source": [
    "n = [[int(np.random.uniform(1, 11)) for _ in range(100000)] for _ in range(10)]\n",
    "new_n = []"
   ]
  },
  {
   "cell_type": "code",
   "execution_count": 9,
   "metadata": {},
   "outputs": [
    {
     "data": {
      "text/plain": [
       "Text(0, 0.5, 'Распределение')"
      ]
     },
     "execution_count": 9,
     "metadata": {},
     "output_type": "execute_result"
    },
    {
     "data": {
      "image/png": "[encoded data removed]",
      "text/plain": [
       "<Figure size 432x288 with 1 Axes>"
      ]
     },
     "metadata": {
      "needs_background": "light"
     },
     "output_type": "display_data"
    }
   ],
   "source": [
    "plt.hist(n[0]+n[1]+n[2]+n[3]+n[4]+n[5]+n[6]+n[7]+n[8]+n[9])\n",
    "plt.xlabel('Числа')\n",
    "plt.ylabel('Распределение')"
   ]
  },
  {
   "cell_type": "markdown",
   "metadata": {},
   "source": [
    "#### 3.1 Дополните код Монте-Карло последовательности независимых испытаний расчетом соответствующих вероятностей (через биномиальное распределение) и сравните результаты.\n"
   ]
  },
  {
   "cell_type": "code",
   "execution_count": 10,
   "metadata": {},
   "outputs": [],
   "source": [
    "from math import factorial as fact"
   ]
  },
  {
   "cell_type": "code",
   "execution_count": 11,
   "metadata": {},
   "outputs": [
    {
     "name": "stdout",
     "output_type": "stream",
     "text": [
      "3740 10000 0.374\n"
     ]
    }
   ],
   "source": [
    "k, n = 0, 10000\n",
    "a = np.random.randint(0, 2, n)\n",
    "b = np.random.randint(0, 2, n)\n",
    "c = np.random.randint(0, 2, n)\n",
    "d = np.random.randint(0, 2, n)\n",
    "x = a + b + c + d\n",
    "for i in range(0, n):\n",
    "    if x[i] == 2:\n",
    "        k = k + 1\n",
    "#print(a, b, c, d)\n",
    "#print(x)\n",
    "print(k, n, k/n)"
   ]
  },
  {
   "cell_type": "code",
   "execution_count": 12,
   "metadata": {},
   "outputs": [],
   "source": [
    "c = fact(4) / (fact(2) * fact(4 - 2))"
   ]
  },
  {
   "cell_type": "markdown",
   "metadata": {},
   "source": [
    "Подставим все числа в формулу Бернулли."
   ]
  },
  {
   "cell_type": "code",
   "execution_count": 13,
   "metadata": {},
   "outputs": [
    {
     "name": "stdout",
     "output_type": "stream",
     "text": [
      "Вероятность 2-х успехов из 4-х равна 0.375\n"
     ]
    }
   ],
   "source": [
    "print(f'Вероятность 2-х успехов из 4-х равна {c / 2 ** 4}')"
   ]
  },
  {
   "cell_type": "markdown",
   "metadata": {},
   "source": [
    "#### 3.2 Повторите расчеты биномиальных коэффициентов и вероятностей k успехов в последовательности из n независимых испытаний, взяв другие значения n и k."
   ]
  },
  {
   "cell_type": "markdown",
   "metadata": {},
   "source": [
    "Три из четырех:"
   ]
  },
  {
   "cell_type": "code",
   "execution_count": 14,
   "metadata": {},
   "outputs": [],
   "source": [
    "c = fact(4) / (fact(3) * fact(4 - 3))"
   ]
  },
  {
   "cell_type": "code",
   "execution_count": 15,
   "metadata": {},
   "outputs": [
    {
     "name": "stdout",
     "output_type": "stream",
     "text": [
      "Вероятность 2-х успехов из 4-х равна 0.25\n"
     ]
    }
   ],
   "source": [
    "print(f'Вероятность 2-х успехов из 4-х равна {c / 2 ** 4}')"
   ]
  },
  {
   "cell_type": "markdown",
   "metadata": {},
   "source": [
    "Три из пяти:"
   ]
  },
  {
   "cell_type": "code",
   "execution_count": 16,
   "metadata": {},
   "outputs": [],
   "source": [
    "c = fact(5) / (fact(3) * fact(5 - 3))"
   ]
  },
  {
   "cell_type": "code",
   "execution_count": 17,
   "metadata": {},
   "outputs": [
    {
     "name": "stdout",
     "output_type": "stream",
     "text": [
      "Вероятность 2-х успехов из 4-х равна 0.3125\n"
     ]
    }
   ],
   "source": [
    "print(f'Вероятность 2-х успехов из 4-х равна {c / 2 ** 5}')"
   ]
  },
  {
   "cell_type": "markdown",
   "metadata": {},
   "source": [
    "#### 4. Из урока по комбинаторике повторите расчеты, сгенерировав возможные варианты перестановок для других значений n и k."
   ]
  },
  {
   "cell_type": "code",
   "execution_count": 18,
   "metadata": {},
   "outputs": [],
   "source": [
    "import itertools"
   ]
  },
  {
   "cell_type": "code",
   "execution_count": 19,
   "metadata": {},
   "outputs": [
    {
     "name": "stdout",
     "output_type": "stream",
     "text": [
      "01\n",
      "02\n",
      "03\n",
      "04\n",
      "10\n",
      "12\n",
      "13\n",
      "14\n",
      "20\n",
      "21\n",
      "23\n",
      "24\n",
      "30\n",
      "31\n",
      "32\n",
      "34\n",
      "40\n",
      "41\n",
      "42\n",
      "43\n"
     ]
    }
   ],
   "source": [
    "for p in itertools.permutations(\"01234\",2):\n",
    "    print(''.join(str(x) for x in p))"
   ]
  },
  {
   "cell_type": "code",
   "execution_count": 20,
   "metadata": {},
   "outputs": [
    {
     "name": "stdout",
     "output_type": "stream",
     "text": [
      "0123\n",
      "0124\n",
      "0132\n",
      "0134\n",
      "0142\n",
      "0143\n",
      "0213\n",
      "0214\n",
      "0231\n",
      "0234\n",
      "0241\n",
      "0243\n",
      "0312\n",
      "0314\n",
      "0321\n",
      "0324\n",
      "0341\n",
      "0342\n",
      "0412\n",
      "0413\n",
      "0421\n",
      "0423\n",
      "0431\n",
      "0432\n",
      "1023\n",
      "1024\n",
      "1032\n",
      "1034\n",
      "1042\n",
      "1043\n",
      "1203\n",
      "1204\n",
      "1230\n",
      "1234\n",
      "1240\n",
      "1243\n",
      "1302\n",
      "1304\n",
      "1320\n",
      "1324\n",
      "1340\n",
      "1342\n",
      "1402\n",
      "1403\n",
      "1420\n",
      "1423\n",
      "1430\n",
      "1432\n",
      "2013\n",
      "2014\n",
      "2031\n",
      "2034\n",
      "2041\n",
      "2043\n",
      "2103\n",
      "2104\n",
      "2130\n",
      "2134\n",
      "2140\n",
      "2143\n",
      "2301\n",
      "2304\n",
      "2310\n",
      "2314\n",
      "2340\n",
      "2341\n",
      "2401\n",
      "2403\n",
      "2410\n",
      "2413\n",
      "2430\n",
      "2431\n",
      "3012\n",
      "3014\n",
      "3021\n",
      "3024\n",
      "3041\n",
      "3042\n",
      "3102\n",
      "3104\n",
      "3120\n",
      "3124\n",
      "3140\n",
      "3142\n",
      "3201\n",
      "3204\n",
      "3210\n",
      "3214\n",
      "3240\n",
      "3241\n",
      "3401\n",
      "3402\n",
      "3410\n",
      "3412\n",
      "3420\n",
      "3421\n",
      "4012\n",
      "4013\n",
      "4021\n",
      "4023\n",
      "4031\n",
      "4032\n",
      "4102\n",
      "4103\n",
      "4120\n",
      "4123\n",
      "4130\n",
      "4132\n",
      "4201\n",
      "4203\n",
      "4210\n",
      "4213\n",
      "4230\n",
      "4231\n",
      "4301\n",
      "4302\n",
      "4310\n",
      "4312\n",
      "4320\n",
      "4321\n"
     ]
    }
   ],
   "source": [
    "for p in itertools.permutations(\"01234\",4):\n",
    "    print(''.join(str(x) for x in p))"
   ]
  },
  {
   "cell_type": "code",
   "execution_count": 21,
   "metadata": {},
   "outputs": [
    {
     "name": "stdout",
     "output_type": "stream",
     "text": [
      "0123\n",
      "0124\n",
      "0134\n",
      "0234\n",
      "1234\n"
     ]
    }
   ],
   "source": [
    "for p in itertools.combinations(\"01234\",4):\n",
    "    print(''.join(str(x) for x in p))"
   ]
  },
  {
   "cell_type": "markdown",
   "metadata": {},
   "source": [
    "#### 5. Дополните код расчетом коэффициента корреляции x и y по формуле"
   ]
  },
  {
   "cell_type": "code",
   "execution_count": 22,
   "metadata": {},
   "outputs": [],
   "source": [
    "from IPython.display import Latex\n",
    "import warnings\n",
    "warnings.filterwarnings('ignore')"
   ]
  },
  {
   "cell_type": "markdown",
   "metadata": {},
   "source": [
    "$R = \\frac{\\sum(x_i - x_m)(y_i - y_m)}{\\sqrt{\\sum(x_i - x_m)^2\\sum(y_i - y_m)^2}}$"
   ]
  },
  {
   "cell_type": "code",
   "execution_count": 23,
   "metadata": {},
   "outputs": [
    {
     "name": "stdout",
     "output_type": "stream",
     "text": [
      "0.7052434569240076 0.16058632956062496\n",
      "0.7052434569240074 0.16058632956062496\n"
     ]
    },
    {
     "data": {
      "image/png": "[encoded data removed]",
      "text/plain": [
       "<Figure size 432x288 with 1 Axes>"
      ]
     },
     "metadata": {
      "needs_background": "light"
     },
     "output_type": "display_data"
    }
   ],
   "source": [
    "n = 100\n",
    "r = 0.7\n",
    "x = np.random.rand(n)\n",
    "y = r*x + (1 - r)*np.random.rand(n)\n",
    "plt.plot(x, y, 'o')\n",
    "plt.xlabel('x')\n",
    "plt.ylabel('y')\n",
    "plt.grid(True)\n",
    "\n",
    "a = (np.sum(x)*np.sum(y) - n*np.sum(x*y))/(np.sum(x)*np.sum(x) - n*np.sum(x*x))\n",
    "b = (np.sum(y) - a*np.sum(x))/n\n",
    "\n",
    "A = np.vstack([x, np.ones(len(x))]).T\n",
    "a1, b1 = np.linalg.lstsq(A, y)[0]\n",
    "print(a, b)\n",
    "print(a1, b1)\n",
    "plt.plot([0, 1], [b, a + b])\n",
    "plt.show()"
   ]
  },
  {
   "cell_type": "code",
   "execution_count": 24,
   "metadata": {},
   "outputs": [
    {
     "data": {
      "text/plain": [
       "0.9311064319283457"
      ]
     },
     "execution_count": 24,
     "metadata": {},
     "output_type": "execute_result"
    }
   ],
   "source": [
    "avgx = np.sum(x) / n\n",
    "avgy = np.sum(y) / n\n",
    "corr = np.sum((x - avgx) * (y - avgy)) / np.sqrt(np.sum((x - avgx) ** 2) * np.sum((y - avgy) ** 2))\n",
    "corr"
   ]
  }
 ],
 "metadata": {
  "kernelspec": {
   "display_name": "Python 3",
   "language": "python",
   "name": "python3"
  },
  "language_info": {
   "codemirror_mode": {
    "name": "ipython",
    "version": 3
   },
   "file_extension": ".py",
   "mimetype": "text/x-python",
   "name": "python",
   "nbconvert_exporter": "python",
   "pygments_lexer": "ipython3",
   "version": "3.8.2"
  }
 },
 "nbformat": 4,
 "nbformat_minor": 4
}

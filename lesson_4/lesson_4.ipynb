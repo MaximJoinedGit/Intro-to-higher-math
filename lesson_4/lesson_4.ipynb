{
 "cells": [
  {
   "cell_type": "markdown",
   "metadata": {},
   "source": [
    "# **<center>Введение в высшую математику. Урок 4.</center><hr>**"
   ]
  },
  {
   "cell_type": "markdown",
   "metadata": {},
   "source": [
    "## **<center>Аналитическая геометрия и графики на плоскости</center>**"
   ]
  },
  {
   "cell_type": "markdown",
   "metadata": {},
   "source": [
    "### 1. Решите уравнение."
   ]
  },
  {
   "cell_type": "markdown",
   "metadata": {},
   "source": [
    "$\\frac{sin(x)}{x} = 0$"
   ]
  },
  {
   "cell_type": "markdown",
   "metadata": {},
   "source": [
    "$sin(x) = 0$ при $x \\neq 0$"
   ]
  },
  {
   "cell_type": "markdown",
   "metadata": {},
   "source": [
    "$x = \\pi + k \\cdot \\pi$, где $k \\in Z$ и $k \\neq -1$"
   ]
  },
  {
   "cell_type": "markdown",
   "metadata": {},
   "source": [
    "### 2. Даны три прямые $y = k1 \\cdot x + b1$, $y = k2 \\cdot x + b2$, $y = k3 \\cdot x + b3$. Как узнать, пересекаются ли они в одной точке или нет?"
   ]
  },
  {
   "cell_type": "markdown",
   "metadata": {},
   "source": [
    "#### Для начала нужно посмотреть, пересекаются ли прямые друг с другом. Первая со второй, вторая с третьей и первая с третьей. Это будут три системы из двух уравнений с двумя переменными."
   ]
  },
  {
   "cell_type": "markdown",
   "metadata": {},
   "source": [
    "$\\begin{equation*}\n",
    " \\begin{cases}\n",
    "   y = k1 \\cdot x + b1\n",
    "   \\\\\n",
    "   y = k2 \\cdot x + b2\n",
    " \\end{cases}\n",
    "\\end{equation*}$"
   ]
  },
  {
   "cell_type": "markdown",
   "metadata": {},
   "source": [
    "$\\begin{equation*}\n",
    " \\begin{cases}\n",
    "   y = k2 \\cdot x + b2\n",
    "   \\\\\n",
    "   y = k3 \\cdot x + b3\n",
    " \\end{cases}\n",
    "\\end{equation*}$"
   ]
  },
  {
   "cell_type": "markdown",
   "metadata": {},
   "source": [
    "$\\begin{equation*}\n",
    " \\begin{cases}\n",
    "   y = k3 \\cdot x + b3\n",
    "   \\\\\n",
    "   y = k1 \\cdot x + b1\n",
    " \\end{cases}\n",
    "\\end{equation*}$"
   ]
  },
  {
   "cell_type": "markdown",
   "metadata": {},
   "source": [
    "#### По методу Крамера, чтобы каждая система имела единственное решение нам необходимо, чтобы определители матриц были не равны нулю."
   ]
  },
  {
   "cell_type": "markdown",
   "metadata": {},
   "source": [
    "$\n",
    "\\begin{vmatrix}\n",
    "k1 & -1 \\\\ -1 & k2\n",
    "\\end{vmatrix} \\neq 0\n",
    "$\n",
    "\n",
    "$\n",
    "\\begin{vmatrix}\n",
    "k2 & -1 \\\\ -1 & k3\n",
    "\\end{vmatrix} \\neq 0\n",
    "$\n",
    "\n",
    "$\n",
    "\\begin{vmatrix}\n",
    "k3 & -1 \\\\ -1 & k1\n",
    "\\end{vmatrix} \\neq 0\n",
    "$"
   ]
  },
  {
   "cell_type": "markdown",
   "metadata": {},
   "source": [
    "#### А также определитель матрицы из трех уравнений должен равняться нулю."
   ]
  },
  {
   "cell_type": "markdown",
   "metadata": {},
   "source": [
    "$\n",
    "\\begin{vmatrix}\n",
    "k1 & k2 & k3 \\\\ -1 & -1 & -1 \\\\ b1 & b2 & b3\n",
    "\\end{vmatrix} = 0\n",
    "$"
   ]
  },
  {
   "cell_type": "markdown",
   "metadata": {},
   "source": [
    "#### В этом случае три прямые будут пересекаться в одной точке."
   ]
  },
  {
   "cell_type": "markdown",
   "metadata": {},
   "source": [
    "### 3. На листе тетради \"в линейку\" (расстояние между линиями равно а) лежит игла (длиной b). Координаты нижней точки иглы (x, y), игла лежит под углом alfa. Пересекает ли игла линию или нет?"
   ]
  },
  {
   "cell_type": "markdown",
   "metadata": {},
   "source": [
    "У нас есть координата y, которая задает начальную точку отсчета для иглы по вертикали. \n",
    "\n",
    "Для начала необходимо узнать, насколько далеко эта точка от ближайшей нижней \"тетрадной\" линии. Это решается нахождением остатка от деления t = y % a. \n",
    "\n",
    "Теперь посчитаем какое расстояние займет сама игла по оси y. У нас известна гипотенуза (длина иглы) и угол к горизонту. Итак, игла расположится на расстояние $d = b \\cdot sin{\\alpha}$ по оси y. \n",
    "\n",
    "Сложив оба значения, мы получим величину, которая физически будет означать сколько займет игла и начальный отступ.\n",
    "\n",
    "Теперь легко узнать, пересечет ли игла линию. Для этого достаточно просто получившееся расстояние поделить на расстояние между линиями. Если значение будет лежать в промежутке от 0 до 1, то не пересечет. Если больше 1, то пересечет верхнюю линию, если меньше 0, то нижнюю. При решении я принебрег шириной иглы, а также принял, что если конец иглы направлен вниз относительно начала, то берется угол от 180 до 360 градусов."
   ]
  },
  {
   "cell_type": "markdown",
   "metadata": {},
   "source": [
    "### 5. Найти угол $\\alpha$ между прямыми $4y - 3x + 12 = 0$ и $7y + x - 14 = 0$."
   ]
  },
  {
   "cell_type": "markdown",
   "metadata": {},
   "source": [
    "Угол будет равен\n",
    "$cos{\\alpha} = \\frac{A_1A_2 + B_1B_2}{\\sqrt{A_1^2 + B_1^2} \\cdot \\sqrt{A_2^2 + B_2^2}}$"
   ]
  },
  {
   "cell_type": "markdown",
   "metadata": {},
   "source": [
    "$cos(\\alpha) = \\frac{(-3)(1) + (4)(7)}{\\sqrt{(-3)^2 + (4)^2} \\cdot \\sqrt{(1)^2 + (7)^2}} = \\frac{1}{\\sqrt2}$"
   ]
  },
  {
   "cell_type": "markdown",
   "metadata": {},
   "source": [
    "Угол $\\alpha$ равен ${\\pi}/{4}$"
   ]
  },
  {
   "cell_type": "markdown",
   "metadata": {},
   "source": [
    "### Найти угол $\\alpha$ между прямыми $x = \\sqrt{2}$ и $x = \\sqrt{-3}$."
   ]
  },
  {
   "cell_type": "markdown",
   "metadata": {},
   "source": [
    "По аналогии с примером выше\n",
    "$cos(\\alpha) = \\frac{(1)(1) + (0)(0)}{\\sqrt{(1)^2 + (0)^2} \\cdot \\sqrt{(1)^2 + (0)^2}} = 1$"
   ]
  },
  {
   "cell_type": "markdown",
   "metadata": {},
   "source": [
    "Угол равен 0, прямые параллельны"
   ]
  },
  {
   "cell_type": "markdown",
   "metadata": {},
   "source": [
    "### 6. Выяснить тип кривых второго порядка, порожденных следующими уравнениями."
   ]
  },
  {
   "cell_type": "markdown",
   "metadata": {},
   "source": [
    "$y^2 - 2x - 2y - 5 = 0$"
   ]
  },
  {
   "cell_type": "markdown",
   "metadata": {},
   "source": [
    "Парабола, если записать ее в виде $y^2 - 2k - 5 = 0$, где $k = x - y$"
   ]
  },
  {
   "cell_type": "code",
   "execution_count": 10,
   "metadata": {},
   "outputs": [],
   "source": [
    "from matplotlib import pyplot as plt\n",
    "import numpy as np"
   ]
  },
  {
   "cell_type": "code",
   "execution_count": 23,
   "metadata": {},
   "outputs": [
    {
     "data": {
      "text/plain": [
       "[<matplotlib.lines.Line2D at 0x7efc234a7460>]"
      ]
     },
     "execution_count": 23,
     "metadata": {},
     "output_type": "execute_result"
    },
    {
     "data": {
      "image/png": "[encoded data removed]",
      "text/plain": [
       "<Figure size 432x288 with 1 Axes>"
      ]
     },
     "metadata": {
      "needs_background": "light"
     },
     "output_type": "display_data"
    }
   ],
   "source": [
    "x = np.linspace(-100, 100)\n",
    "plt.plot(x, (5 + 2*x - x**2)/2)"
   ]
  },
  {
   "cell_type": "markdown",
   "metadata": {},
   "source": [
    "$3x^2 + 5y^2 + 12x - 30y + 42 = 0$"
   ]
  },
  {
   "cell_type": "markdown",
   "metadata": {},
   "source": [
    "Эллипс"
   ]
  },
  {
   "cell_type": "markdown",
   "metadata": {},
   "source": [
    "$2x^2 - y^2 + 6y - 7 = 0$"
   ]
  },
  {
   "cell_type": "markdown",
   "metadata": {},
   "source": [
    "$2x^2 - 3y^2 - 28x - 42y - 55 = 0$"
   ]
  }
 ],
 "metadata": {
  "kernelspec": {
   "display_name": "Python 3",
   "language": "python",
   "name": "python3"
  },
  "language_info": {
   "codemirror_mode": {
    "name": "ipython",
    "version": 3
   },
   "file_extension": ".py",
   "mimetype": "text/x-python",
   "name": "python",
   "nbconvert_exporter": "python",
   "pygments_lexer": "ipython3",
   "version": "3.8.2"
  }
 },
 "nbformat": 4,
 "nbformat_minor": 4
}

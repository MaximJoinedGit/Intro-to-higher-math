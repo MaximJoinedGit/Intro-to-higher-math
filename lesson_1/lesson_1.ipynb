{
 "cells": [
  {
   "cell_type": "markdown",
   "metadata": {},
   "source": [
    "# **<center>Введение в высшую математику. Урок 1.</center><hr>**"
   ]
  },
  {
   "cell_type": "markdown",
   "metadata": {},
   "source": [
    "## Задание 1."
   ]
  },
  {
   "cell_type": "markdown",
   "metadata": {},
   "source": [
    "$\n",
    "7\\cdot\\begin{bmatrix}\n",
    "5 & 10\\\\7 & 12\\\\11.3 & 5\\\\25 & 30\n",
    "\\end{bmatrix} \n",
    "+\n",
    "2\\cdot\\begin{bmatrix}\n",
    "5 & 10\\\\7 & 12\\\\11.3 & 5\\\\25 & 30\n",
    "\\end{bmatrix}\n",
    "=\n",
    "(7+2)\\cdot\\begin{bmatrix}\n",
    "5 & 10\\\\7 & 12\\\\11.3 & 5\\\\25 & 30\n",
    "\\end{bmatrix}\n",
    "=\n",
    "9\\cdot\\begin{bmatrix}\n",
    "5 & 10\\\\7 & 12\\\\11.3 & 5\\\\25 & 30\n",
    "\\end{bmatrix}\n",
    "=\n",
    "\\begin{bmatrix}\n",
    "(9 \\times 5) & (9 \\times 10)\\\\(9 \\times 7) & (9 \\times 12)\\\\(9 \\times 11.3) & (9 \\times 5)\\\\(9 \\times 25) & (9 \\times 30)\n",
    "\\end{bmatrix}\n",
    "=\n",
    "\\begin{bmatrix}\n",
    "45 & 90 \\\\ 63 & 108 \\\\ 101,7 & 45 \\\\ 225 & 270\n",
    "\\end{bmatrix}\n",
    "$"
   ]
  },
  {
   "cell_type": "markdown",
   "metadata": {},
   "source": [
    "## Задание 2.1. Решите систему уравнений."
   ]
  },
  {
   "cell_type": "markdown",
   "metadata": {},
   "source": [
    "$\\begin{equation*}\n",
    " \\begin{cases}\n",
    "   3x - 2y + 5z = 7\n",
    "   \\\\\n",
    "   7x + 4y - 8z = 3\n",
    "   \\\\\n",
    "   5x - 3y - 4z = -12\n",
    " \\end{cases}\n",
    "\\end{equation*}$"
   ]
  },
  {
   "cell_type": "markdown",
   "metadata": {},
   "source": [
    "#### Решим задачу при помощи метода Крамера. Для этого составим две матрицы из коэффициентов."
   ]
  },
  {
   "cell_type": "markdown",
   "metadata": {},
   "source": [
    "$\n",
    "A =\n",
    "\\begin{vmatrix}\n",
    "3 & -2 & 5 \\\\ 7 & 4 & -8 \\\\ 5 & -3 & -4\n",
    "\\end{vmatrix}\n",
    "$\n",
    "\n",
    "$\n",
    "B =\n",
    "\\begin{vmatrix}\n",
    "7 \\\\ 3 \\\\ -12\n",
    "\\end{vmatrix}\n",
    "$"
   ]
  },
  {
   "cell_type": "markdown",
   "metadata": {},
   "source": [
    "#### Найдем определитель матрицы А, так как только в случае, если определитель не равен 0 уравнение имеет решения."
   ]
  },
  {
   "cell_type": "markdown",
   "metadata": {},
   "source": [
    "$\n",
    "\\Delta = |A| = 3 \\cdot 4 \\cdot (-4) + (-2) \\cdot 5 \\cdot (-8) + 7 \\cdot 5 \\cdot (-3) - 5 \\cdot 4 \\cdot 5 - (-3) \\cdot (-8) \\cdot 3 - 7 \\cdot (-2) \\cdot (-4) = -301\n",
    "$"
   ]
  },
  {
   "cell_type": "code",
   "execution_count": 1,
   "metadata": {},
   "outputs": [
    {
     "data": {
      "text/plain": [
       "-301"
      ]
     },
     "execution_count": 1,
     "metadata": {},
     "output_type": "execute_result"
    }
   ],
   "source": [
    "(3*4*-4) + (-2*5*-8) + (7*5*-3) - (5*4*5) - (-3*-8*3) - (7*-2*-4)"
   ]
  },
  {
   "cell_type": "markdown",
   "metadata": {},
   "source": [
    "$\n",
    "\\Delta_1 =\n",
    "\\begin{vmatrix}\n",
    "7 & -2 & 5 \\\\ 3 & 4 & -8 \\\\ -12 & -3 & -4\n",
    "\\end{vmatrix}\n",
    "$\n",
    "\n",
    "$\n",
    "\\Delta_2 =\n",
    "\\begin{vmatrix}\n",
    "3 & 7 & 5 \\\\ 7 & 3 & -8 \\\\ 5 & -12 & -4\n",
    "\\end{vmatrix}\n",
    "$\n",
    "\n",
    "$\n",
    "\\Delta_3 =\n",
    "\\begin{vmatrix}\n",
    "3 & -2 & 7 \\\\ 7 & 4 & 3 \\\\ 5 & -3 & -12\n",
    "\\end{vmatrix}\n",
    "$"
   ]
  },
  {
   "cell_type": "markdown",
   "metadata": {},
   "source": [
    "#### Найдем определители этих матриц."
   ]
  },
  {
   "cell_type": "markdown",
   "metadata": {},
   "source": [
    "$\n",
    "\\Delta_1 = 7 \\cdot 4 \\cdot (-4) + (-2) \\cdot (-8) \\cdot (-12) + 3 \\cdot (-3) \\cdot 5 - 5 \\cdot 4 \\cdot (-12) - 3 \\cdot (-2) \\cdot (-4) - 7 \\cdot (-3) \\cdot (-8) = -301\n",
    "$\n",
    "$\n",
    "\\Delta_2 = 3 \\cdot 3 \\cdot (-4) + 7 \\cdot 5 \\cdot (-12) + 7 \\cdot 5 \\cdot (-8) - 5 \\cdot 3 \\cdot 5 - 3 \\cdot (-8) \\cdot (-12) - 7 \\cdot 7 \\cdot (-4) = -903\n",
    "$\n",
    "$\n",
    "\\Delta_3 = 3 \\cdot 4 \\cdot (-12) + 7 \\cdot 7 \\cdot (-3) + 5 \\cdot 3 \\cdot (-2) - 5 \\cdot 4 \\cdot 7 - 3 \\cdot 3 \\cdot (-3) - 7 \\cdot (-2) \\cdot (-12) = -602\n",
    "$"
   ]
  },
  {
   "cell_type": "code",
   "execution_count": 2,
   "metadata": {},
   "outputs": [
    {
     "name": "stdout",
     "output_type": "stream",
     "text": [
      "Δ1 = -301\n",
      "Δ2 = -903\n",
      "Δ3 = -602\n"
     ]
    }
   ],
   "source": [
    "print(f'Δ1 = {(7*4*-4) + (-2*-8*-12) + (3*-3*5) - (5*4*-12) - (3*-2*-4) - (7*-3*-8)}')\n",
    "print(f'Δ2 = {(3*3*-4) + (7*5*-12) + (7*5*-8) - (5*3*5) - (3*-8*-12) - (7*7*-4)}')\n",
    "print(f'Δ3 = {(3*4*-12) + (7*7*-3) + (5*3*-2) - (5*4*7) - (3*3*-3) - (7*-2*-12)}')"
   ]
  },
  {
   "cell_type": "markdown",
   "metadata": {},
   "source": [
    "#### Осталось найти x, y и z."
   ]
  },
  {
   "cell_type": "markdown",
   "metadata": {},
   "source": [
    "$\n",
    "x = \\Delta_1 / \\Delta = (-301) / (-301) = 1\n",
    "$\n",
    "\n",
    "$\n",
    "y = \\Delta_2 / \\Delta = (-903) / (-301) = 3\n",
    "$\n",
    "\n",
    "$\n",
    "z = \\Delta_3 / \\Delta = (-602) / (-301) = 2\n",
    "$"
   ]
  },
  {
   "cell_type": "markdown",
   "metadata": {},
   "source": [
    "#### Все уравнения и система уравнений являются линейными."
   ]
  },
  {
   "cell_type": "markdown",
   "metadata": {},
   "source": [
    "## Задание 2.2. Решите систему уравнений."
   ]
  },
  {
   "cell_type": "markdown",
   "metadata": {},
   "source": [
    "$\\begin{equation*}\n",
    " \\begin{cases}\n",
    "   x^2 + y\\cdot x - 9 = 0\n",
    "   \\\\\n",
    "   x - y/5 = 0\n",
    " \\end{cases}\n",
    "\\end{equation*}$"
   ]
  },
  {
   "cell_type": "markdown",
   "metadata": {},
   "source": [
    "#### Выразим x через y и подставим в первое уравнение."
   ]
  },
  {
   "cell_type": "markdown",
   "metadata": {},
   "source": [
    "$\\begin{equation*}\n",
    " \\begin{cases}\n",
    "   x^2 + (5 \\cdot x)\\cdot x - 9 = 0\n",
    "   \\\\\n",
    "   y = 5 \\cdot x\n",
    " \\end{cases}\n",
    "\\end{equation*}$"
   ]
  },
  {
   "cell_type": "markdown",
   "metadata": {},
   "source": [
    "#### Решим квадратное уравнение $6 \\cdot x^2 - 9 = 0$"
   ]
  },
  {
   "cell_type": "markdown",
   "metadata": {},
   "source": [
    "$\\begin{equation*}\n",
    " \\begin{cases}\n",
    "   x_1 = - \\frac{3}{\\sqrt{6}}\n",
    "   \\\\\n",
    "   x_2 = \\frac{3}{\\sqrt{6}}\n",
    " \\end{cases}\n",
    "\\end{equation*}$"
   ]
  },
  {
   "cell_type": "markdown",
   "metadata": {},
   "source": [
    "#### Соответственно, y будет равен:"
   ]
  },
  {
   "cell_type": "markdown",
   "metadata": {},
   "source": [
    "$\\begin{equation*}\n",
    " \\begin{cases}\n",
    "   y_1 = - \\frac{15}{\\sqrt{6}}\n",
    "   \\\\\n",
    "   y_2 = \\frac{15}{\\sqrt{6}}\n",
    " \\end{cases}\n",
    "\\end{equation*}$"
   ]
  },
  {
   "cell_type": "markdown",
   "metadata": {},
   "source": [
    "#### Линейным является только второе уравнение. Первое же, как и система уравнений, является нелинейным."
   ]
  },
  {
   "cell_type": "markdown",
   "metadata": {},
   "source": [
    "## Задание 3. Площадь пола прямоугольной комнаты равна 48 м2,а его периметр равен 28 м. Найдите длину и ширину комнаты."
   ]
  },
  {
   "cell_type": "markdown",
   "metadata": {},
   "source": [
    "#### Зададим систему из двух уравнений с двумя переменными (длина и ширина) для площади и периметра комнаты."
   ]
  },
  {
   "cell_type": "markdown",
   "metadata": {},
   "source": [
    "$\\begin{equation*}\n",
    " \\begin{cases}\n",
    "   a \\cdot b = 48\n",
    "   \\\\\n",
    "   2 \\cdot a + 2 \\cdot b = 28\\\n",
    " \\end{cases}\n",
    "\\end{equation*}$"
   ]
  },
  {
   "cell_type": "markdown",
   "metadata": {},
   "source": [
    "#### Выразим b через a и получим квадратное уравнение."
   ]
  },
  {
   "cell_type": "markdown",
   "metadata": {},
   "source": [
    "$\\begin{equation*}\n",
    "  \\begin{cases}\n",
    "    -b^2 + 14 \\cdot b - 48 = 0\n",
    "    \\\\\n",
    "    a = 14 - b\n",
    "  \\end{cases}\n",
    "\\end{equation*}$"
   ]
  },
  {
   "cell_type": "markdown",
   "metadata": {},
   "source": [
    "#### Решим квадратное уравнение с помощью дискриминанта. Корни равны 6 и 8."
   ]
  },
  {
   "cell_type": "markdown",
   "metadata": {},
   "source": [
    "$\n",
    "b_1 = \\frac{-14 + \\sqrt{(14^2 - 4*(-1)(-48))}}{-2} = 6\n",
    "\\\\\n",
    "b_2 = \\frac{-14 - \\sqrt{(14^2 - 4*(-1)(-48))}}{-2} = 8\n",
    "$"
   ]
  },
  {
   "cell_type": "markdown",
   "metadata": {},
   "source": [
    "#### Подставляя в первое уравнение получим"
   ]
  },
  {
   "cell_type": "markdown",
   "metadata": {},
   "source": [
    "$\n",
    "a_1 = \\frac{48}{6} = 8\n",
    "\\\\\n",
    "a_1 = \\frac{48}{8} = 6\n",
    "$"
   ]
  },
  {
   "cell_type": "markdown",
   "metadata": {},
   "source": [
    "#### Ответ: стороны комнаты 6м и 8м."
   ]
  },
  {
   "cell_type": "markdown",
   "metadata": {},
   "source": [
    "## Задание 4. Постройте на одном графике две кривые y(x) для функции двух переменной y(k,x)=cos(k∙x), взяв для одной кривой значение k=1, а для другой – любое другое k, не равное 1."
   ]
  },
  {
   "cell_type": "code",
   "execution_count": 3,
   "metadata": {},
   "outputs": [],
   "source": [
    "import numpy as np\n",
    "from matplotlib import pyplot as plt"
   ]
  },
  {
   "cell_type": "code",
   "execution_count": 4,
   "metadata": {},
   "outputs": [
    {
     "data": {
      "image/png": "[encoded data removed]",
      "text/plain": [
       "<Figure size 432x288 with 1 Axes>"
      ]
     },
     "metadata": {
      "needs_background": "light"
     },
     "output_type": "display_data"
    }
   ],
   "source": [
    "x = np.linspace(-np.pi, np.pi, 201)\n",
    "plt.plot(x, np.cos(x), color='green')\n",
    "plt.plot(x, np.cos(2*x), color='red')\n",
    "plt.xlabel('x')\n",
    "plt.ylabel('y')\n",
    "plt.show()"
   ]
  }
 ],
 "metadata": {
  "kernelspec": {
   "display_name": "Python 3",
   "language": "python",
   "name": "python3"
  },
  "language_info": {
   "codemirror_mode": {
    "name": "ipython",
    "version": 3
   },
   "file_extension": ".py",
   "mimetype": "text/x-python",
   "name": "python",
   "nbconvert_exporter": "python",
   "pygments_lexer": "ipython3",
   "version": "3.8.2"
  }
 },
 "nbformat": 4,
 "nbformat_minor": 4
}

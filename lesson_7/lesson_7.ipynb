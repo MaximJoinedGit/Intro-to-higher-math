{
 "cells": [
  {
   "cell_type": "markdown",
   "metadata": {},
   "source": [
    "# **<center>Введение в высшую математику. Урок 7.</center><hr>**"
   ]
  },
  {
   "cell_type": "markdown",
   "metadata": {},
   "source": [
    "## **<center>Линейная алгебра</center>**"
   ]
  },
  {
   "cell_type": "markdown",
   "metadata": {},
   "source": [
    "### 1. Вектор – это частный случай матрицы 1хN и Nх1. Повторите материал для векторов, уделяя особое внимание умножению A∙B."
   ]
  },
  {
   "cell_type": "markdown",
   "metadata": {},
   "source": [
    "$a = \\begin{vmatrix}\n",
    "  1 \\\\\n",
    "  2 \\\\\n",
    "  3 \\\\\n",
    "  4 \\\\\n",
    "  5 \\\\\n",
    "\\end{vmatrix}$\n",
    "\n",
    "$b = \\begin{vmatrix}\n",
    "  5 \\ 6 \\ 7 \\ 8 \\ 9\n",
    "\\end{vmatrix}$"
   ]
  },
  {
   "cell_type": "markdown",
   "metadata": {},
   "source": [
    "$5 \\cdot a = (2 + 3) \\cdot a = 2 \\cdot a + 3 \\cdot a$"
   ]
  },
  {
   "cell_type": "markdown",
   "metadata": {},
   "source": [
    "$5 \\cdot a = \n",
    "\\begin{vmatrix}\n",
    "  5 \\cdot 1 \\\\\n",
    "  5 \\cdot 2 \\\\\n",
    "  5 \\cdot 3 \\\\\n",
    "  5 \\cdot 4 \\\\\n",
    "  5 \\cdot 5 \\\\\n",
    "\\end{vmatrix} = \n",
    "\\begin{vmatrix}\n",
    "  5 \\\\\n",
    "  10 \\\\\n",
    "  15 \\\\\n",
    "  20 \\\\\n",
    "  25 \\\\\n",
    "\\end{vmatrix}$"
   ]
  },
  {
   "cell_type": "markdown",
   "metadata": {},
   "source": [
    "$3 \\cdot a + 2 \\cdot a = \n",
    "\\begin{vmatrix}\n",
    "  3 \\cdot 1 \\\\\n",
    "  3 \\cdot 2 \\\\\n",
    "  3 \\cdot 3 \\\\\n",
    "  3 \\cdot 4 \\\\\n",
    "  3 \\cdot 5 \\\\\n",
    "\\end{vmatrix} + \n",
    "\\begin{vmatrix}\n",
    "  2 \\cdot 1 \\\\\n",
    "  2 \\cdot 2 \\\\\n",
    "  2 \\cdot 3 \\\\\n",
    "  2 \\cdot 4 \\\\\n",
    "  2 \\cdot 5 \\\\\n",
    "\\end{vmatrix} =\n",
    "\\begin{vmatrix}\n",
    "  3 \\\\\n",
    "  6 \\\\\n",
    "  9 \\\\\n",
    "  12 \\\\\n",
    "  15 \\\\\n",
    "\\end{vmatrix} +\n",
    "\\begin{vmatrix}\n",
    "  2 \\\\\n",
    "  4 \\\\\n",
    "  6 \\\\\n",
    "  8 \\\\\n",
    "  10 \\\\\n",
    "\\end{vmatrix} = \n",
    "\\begin{vmatrix}\n",
    "  5 \\\\\n",
    "  10 \\\\\n",
    "  15 \\\\\n",
    "  20 \\\\\n",
    "  25 \\\\\n",
    "\\end{vmatrix}$"
   ]
  },
  {
   "cell_type": "markdown",
   "metadata": {},
   "source": [
    "$a \\cdot b = \\begin{vmatrix}\n",
    "  1 \\cdot 5 + 2 \\cdot 6 + 3 \\cdot 7 + 4 \\cdot 8 + 5 \\cdot 9\n",
    "\\end{vmatrix} = 115$"
   ]
  },
  {
   "cell_type": "markdown",
   "metadata": {},
   "source": [
    "$b \\cdot a = \\begin{vmatrix}\n",
    "  (1 \\cdot 5) \\ (2 \\cdot 5) \\ (3 \\cdot 5) \\ (4 \\cdot 5) \\ (5 \\cdot 5) \\\\\n",
    "  (1 \\cdot 6) \\ (2 \\cdot 6) \\ (3 \\cdot 6) \\ (4 \\cdot 6) \\ (5 \\cdot 6) \\\\\n",
    "  (1 \\cdot 7) \\ (2 \\cdot 7) \\ (3 \\cdot 7) \\ (4 \\cdot 7) \\ (5 \\cdot 7) \\\\\n",
    "  (1 \\cdot 8) \\ (2 \\cdot 8) \\ (3 \\cdot 8) \\ (4 \\cdot 8) \\ (5 \\cdot 8) \\\\\n",
    "  (1 \\cdot 9) \\ (2 \\cdot 9) \\ (3 \\cdot 9) \\ (4 \\cdot 9) \\ (5 \\cdot 9) \\\\\n",
    "\\end{vmatrix} = \n",
    "\\begin{vmatrix}\n",
    "  5 \\ 10 \\ 15 \\ 20 \\ 25 \\\\\n",
    "  6 \\ 12 \\ 18 \\ 24 \\ 30 \\\\\n",
    "  7 \\ 14 \\ 21 \\ 28 \\ 35 \\\\\n",
    "  8 \\ 16 \\ 24 \\ 32 \\ 40 \\\\\n",
    "  9 \\ 18 \\ 27 \\ 36 \\ 45 \\\\\n",
    "\\end{vmatrix}$"
   ]
  },
  {
   "cell_type": "markdown",
   "metadata": {},
   "source": [
    "### Вычислите, по возможности не используя программирование: (5E)-1 где Е – единичная матрица размера 5х5."
   ]
  },
  {
   "cell_type": "markdown",
   "metadata": {},
   "source": [
    "$A \\cdot A^{-1} = E$"
   ]
  },
  {
   "cell_type": "markdown",
   "metadata": {},
   "source": [
    "$A^{-1} = \\frac{E}{A} = \\frac{E}{5 \\cdot E}$"
   ]
  },
  {
   "cell_type": "markdown",
   "metadata": {},
   "source": [
    "$A^{-1} = \\frac{1}{5} \\cdot E$"
   ]
  },
  {
   "cell_type": "markdown",
   "metadata": {},
   "source": [
    "$A^{-1} = \n",
    "\\begin{vmatrix}\n",
    "  \\frac{1}{5} \\ 0 \\ 0 \\ 0 \\ 0 \\\\\n",
    "  0 \\ \\frac{1}{5} \\ 0 \\ 0 \\ 0 \\\\\n",
    "  0 \\ 0 \\ \\frac{1}{5} \\ 0 \\ 0 \\\\\n",
    "  0 \\ 0 \\ 0 \\ \\frac{1}{5} \\ 0 \\\\\n",
    "  0 \\ 0 \\ 0 \\ 0 \\ \\frac{1}{5} \\\\\n",
    "\\end{vmatrix}$"
   ]
  },
  {
   "cell_type": "markdown",
   "metadata": {},
   "source": [
    "### 2. Вычислите определитель: $\\begin{vmatrix} 1 \\ 2 \\ 3 \\\\ 4 \\ 0 \\ 6 \\\\ 7 \\ 8 \\ 9 \\end{vmatrix}$"
   ]
  },
  {
   "cell_type": "markdown",
   "metadata": {},
   "source": [
    "$\\begin{vmatrix} 1 \\ 2 \\ 3 \\\\ 4 \\ 0 \\ 6 \\\\ 7 \\ 8 \\ 9 \\end{vmatrix} = 1 \\cdot \\begin{vmatrix} 0 \\ 6 \\\\ 8 \\ 9 \\end{vmatrix} - 2 \\cdot \\begin{vmatrix} 4 \\ 6 \\\\ 7 \\ 9 \\end{vmatrix} + 3 \\cdot \\begin{vmatrix} 4 \\ 0 \\\\ 7 \\ 8 \\end{vmatrix} = -48 - 72 + 84 + 96 = 60$"
   ]
  },
  {
   "cell_type": "markdown",
   "metadata": {},
   "source": [
    "### 3. Вычислите матрицу, обратную данной: $\\begin{vmatrix} 1 \\ 2 \\ 3 \\\\ 4 \\ 0 \\ 6 \\\\ 7 \\ 8 \\ 9 \\end{vmatrix}$"
   ]
  },
  {
   "cell_type": "markdown",
   "metadata": {},
   "source": [
    "$A_{11} = 1 \\cdot \\begin{vmatrix} 0 \\ 6 \\\\ 8 \\ 9 \\end{vmatrix} = 1 \\cdot (0 \\cdot 9 - 6 \\cdot 8) = -48$"
   ]
  },
  {
   "cell_type": "markdown",
   "metadata": {},
   "source": [
    "$A_{12} = -1 \\cdot \\begin{vmatrix} 4 \\ 6 \\\\ 7 \\ 9 \\end{vmatrix} = -1 \\cdot (4 \\cdot 9 - 6 \\cdot 7) = 6$"
   ]
  },
  {
   "cell_type": "markdown",
   "metadata": {},
   "source": [
    "$A_{13} = 1 \\cdot \\begin{vmatrix} 4 \\ 0 \\\\ 7 \\ 8 \\end{vmatrix} = 1 \\cdot (4 \\cdot 8 - 0 \\cdot 7) = 32$"
   ]
  },
  {
   "cell_type": "markdown",
   "metadata": {},
   "source": [
    "$A_{21} = -1 \\cdot \\begin{vmatrix} 2 \\ 3 \\\\ 8 \\ 9 \\end{vmatrix} = -1 \\cdot (2 \\cdot 9 - 3 \\cdot 8) = 6$"
   ]
  },
  {
   "cell_type": "markdown",
   "metadata": {},
   "source": [
    "$A_{22} = 1 \\cdot \\begin{vmatrix} 1 \\ 3 \\\\ 7 \\ 9 \\end{vmatrix} = 1 \\cdot (1 \\cdot 9 - 3 \\cdot 7) = -12$"
   ]
  },
  {
   "cell_type": "markdown",
   "metadata": {},
   "source": [
    "$A_{23} = -1 \\cdot \\begin{vmatrix} 1 \\ 2 \\\\ 7 \\ 8 \\end{vmatrix} = -1 \\cdot (1 \\cdot 8 - 2 \\cdot 7) = 6$"
   ]
  },
  {
   "cell_type": "markdown",
   "metadata": {},
   "source": [
    "$A_{31} = 1 \\cdot \\begin{vmatrix} 2 \\ 3 \\\\ 0 \\ 6 \\end{vmatrix} = 1 \\cdot (2 \\cdot 6 - 3 \\cdot 0) = 12$"
   ]
  },
  {
   "cell_type": "markdown",
   "metadata": {},
   "source": [
    "$A_{32} = -1 \\cdot \\begin{vmatrix} 1 \\ 3 \\\\ 4 \\ 6 \\end{vmatrix} = -1 \\cdot (1 \\cdot 6 - 4 \\cdot 3) = 6$"
   ]
  },
  {
   "cell_type": "markdown",
   "metadata": {},
   "source": [
    "$A_{33} = 1 \\cdot \\begin{vmatrix} 1 \\ 2 \\\\ 4 \\ 0 \\end{vmatrix} = 1 \\cdot (1 \\cdot 0 - 4 \\cdot 2) = -8$"
   ]
  },
  {
   "cell_type": "markdown",
   "metadata": {},
   "source": [
    "$A_*^{T} = \n",
    "\\begin{vmatrix}\n",
    "  -48 \\ 6 \\ 12 \\\\\n",
    "  6 \\ -12 \\ 6 \\\\\n",
    "  32 \\ 6 \\ -8 \\\\\n",
    "\\end{vmatrix}$"
   ]
  },
  {
   "cell_type": "markdown",
   "metadata": {},
   "source": [
    "$A^{-1} = \n",
    "\\begin{vmatrix}\n",
    "  -48 \\ 6 \\ 12 \\\\\n",
    "  6 \\ -12 \\ 6 \\\\\n",
    "  32 \\ 6 \\ -8 \\\\\n",
    "\\end{vmatrix} / 60 = \n",
    "\\begin{vmatrix}\n",
    "  -\\frac{4}{5} \\ \\frac{1}{10} \\ \\frac{1}{5} \\\\\n",
    "  \\frac{1}{10} \\ -\\frac{1}{5} \\ \\frac{1}{10} \\\\\n",
    "  \\frac{8}{15} \\ \\frac{1}{10} \\ -\\frac{2}{15} \\\\\n",
    "\\end{vmatrix}$"
   ]
  },
  {
   "cell_type": "markdown",
   "metadata": {},
   "source": [
    "### Приведите пример матрицы 4х4, ранг которой равен 1."
   ]
  },
  {
   "cell_type": "markdown",
   "metadata": {},
   "source": [
    "$\\begin{vmatrix}\n",
    "1 \\ 2 \\ 3 \\ 4 \\\\\n",
    "1 \\ 2 \\ 3 \\ 4 \\\\\n",
    "1 \\ 2 \\ 3 \\ 4 \\\\\n",
    "1 \\ 2 \\ 3 \\ 4 \\\\\n",
    "\\end{vmatrix}$"
   ]
  },
  {
   "cell_type": "markdown",
   "metadata": {},
   "source": [
    "### 4. Вычислите скалярное произведение двух векторов: (1, 5) и (2, 8)"
   ]
  },
  {
   "cell_type": "markdown",
   "metadata": {},
   "source": [
    "$(1, 5) * (2, 8) = 1 \\cdot 2 + 5 \\cdot 8 = 42$"
   ]
  },
  {
   "cell_type": "markdown",
   "metadata": {},
   "source": [
    "### 5. Вычислите смешанное произведение трех векторов: (1, 5, 0), (2, 8, 7) и (7, 1.5, 3)"
   ]
  },
  {
   "cell_type": "markdown",
   "metadata": {},
   "source": [
    "$\\vec{1, 5, 0} * \\vec{2, 8, 7} = \n",
    "\\begin{vmatrix}\n",
    "  i \\ j \\ k \\\\\n",
    "  1 \\ 5 \\ 0 \\\\\n",
    "  2 \\ 8 \\ 7 \\\\\n",
    "\\end{vmatrix} = 35i - 7j - 2k$"
   ]
  },
  {
   "cell_type": "markdown",
   "metadata": {},
   "source": [
    "$(35, -7, -2) * (7, 1.5, 3) = 245 - 10,5 - 6 = 228,5$"
   ]
  }
 ],
 "metadata": {
  "kernelspec": {
   "display_name": "Python 3",
   "language": "python",
   "name": "python3"
  },
  "language_info": {
   "codemirror_mode": {
    "name": "ipython",
    "version": 3
   },
   "file_extension": ".py",
   "mimetype": "text/x-python",
   "name": "python",
   "nbconvert_exporter": "python",
   "pygments_lexer": "ipython3",
   "version": "3.8.2"
  }
 },
 "nbformat": 4,
 "nbformat_minor": 4
}

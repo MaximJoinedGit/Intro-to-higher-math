{
 "cells": [
  {
   "cell_type": "markdown",
   "metadata": {},
   "source": [
    "# **<center>Введение в высшую математику. Урок 2.</center><hr>**"
   ]
  },
  {
   "cell_type": "code",
   "execution_count": 1,
   "metadata": {},
   "outputs": [],
   "source": [
    "from IPython.display import Latex"
   ]
  },
  {
   "cell_type": "markdown",
   "metadata": {},
   "source": [
    "## 1. Напишите уравнение параболы, проходящей через три точки (x,y): (1,2), (3,10), (5,1)"
   ]
  },
  {
   "cell_type": "markdown",
   "metadata": {},
   "source": [
    "#### Формула параболы имеет вид $ax^2+bx+c=y$, Поэтому мы можем подставить точки в уравнение и получить систему уравнений."
   ]
  },
  {
   "cell_type": "markdown",
   "metadata": {},
   "source": [
    "$\\begin{equation*}\n",
    " \\begin{cases}\n",
    "   a\\cdot1^2 + b\\cdot1 + c = 2\n",
    "   \\\\\n",
    "   a\\cdot3^2 + b\\cdot3 + c = 10\n",
    "   \\\\\n",
    "   a\\cdot5^2 + b\\cdot5 + c = 1\n",
    " \\end{cases}\n",
    "\\end{equation*}$\n",
    "\n",
    "$\\begin{equation*}\n",
    " \\begin{cases}\n",
    "   a + b + c = 2\n",
    "   \\\\\n",
    "   9a + 3b + c = 10\n",
    "   \\\\\n",
    "   25a + 5b + c = 1\n",
    " \\end{cases}\n",
    "\\end{equation*}$\n",
    "\n",
    "$\\begin{equation*}\n",
    " \\begin{cases}\n",
    "   c = 2 - a - b\n",
    "   \\\\\n",
    "   9a + 3b + 2 - a - b = 10\n",
    "   \\\\\n",
    "   25a + 5b + 2 - a - b = 1\n",
    " \\end{cases}\n",
    "\\end{equation*}$\n",
    "\n",
    "$\\begin{equation*}\n",
    " \\begin{cases}\n",
    "   c = 2 - a - b\n",
    "   \\\\\n",
    "   b = 4 - 4a\n",
    "   \\\\\n",
    "   a = -\\frac{17}{8}\n",
    " \\end{cases}\n",
    "\\end{equation*}$\n",
    "\n",
    "$\\begin{equation*}\n",
    " \\begin{cases}\n",
    "   c = 2 + \\frac{17}{8} - \\frac{100}{8} = -8\\frac{3}{8}\n",
    "   \\\\\n",
    "   b = 4 + 4\\cdot(\\frac{17}{8}) = \\frac{100}{8} = 12\\frac{1}{2}\n",
    "   \\\\\n",
    "   a = -\\frac{17}{8} = -2\\frac{1}{8}\n",
    " \\end{cases}\n",
    "\\end{equation*}$"
   ]
  },
  {
   "cell_type": "markdown",
   "metadata": {},
   "source": [
    "## 2. Известно, что свежий огурец на 99% состоит из воды. Месяц назад взвесили мешок со свежими огурцами. Получилось, что огурцов ровно 100 кг. Мешок убрали, а через месяц снова взвесили. Огурцы за это время усохли, и теперь вода составляет уже только 98% их веса. Сколько теперь (в кг) весят огурцы?"
   ]
  },
  {
   "cell_type": "markdown",
   "metadata": {},
   "source": [
    "#### Получается, что в первый раз было соотношение 1 к 99, а во второй раз уже 2 к 98."
   ]
  },
  {
   "cell_type": "markdown",
   "metadata": {},
   "source": [
    "$\\begin{equation*}\n",
    " \\begin{cases}\n",
    "   \\frac{99}{100}x + \\frac{1}{100}x = x\n",
    "   \\\\\n",
    "   \\frac{98}{100}y + \\frac{2}{100}y = y\n",
    " \\end{cases}\n",
    "\\end{equation*}$"
   ]
  },
  {
   "cell_type": "markdown",
   "metadata": {},
   "source": [
    "#### По сути мякоть у нас не усыхала, поэтому мы вторые члены уравнений можем приравнять друг другу."
   ]
  },
  {
   "cell_type": "markdown",
   "metadata": {},
   "source": [
    "$\\frac{1}{100}x = \\frac{2}{100}y$\n",
    "\n",
    "$y = x / 2$"
   ]
  },
  {
   "cell_type": "markdown",
   "metadata": {},
   "source": [
    "#### x по условию задачи был равен 100кг, поэтому исходя из формулы выше огурцы весят теперь 50кг."
   ]
  },
  {
   "cell_type": "markdown",
   "metadata": {},
   "source": [
    "## 3. Задание. Определение логарифма. Решить уравнения:"
   ]
  },
  {
   "cell_type": "markdown",
   "metadata": {},
   "source": [
    "<hr>"
   ]
  },
  {
   "cell_type": "markdown",
   "metadata": {},
   "source": [
    "1) $2^x = 256$"
   ]
  },
  {
   "cell_type": "markdown",
   "metadata": {},
   "source": [
    "$log_2 2^x = log_2 256$"
   ]
  },
  {
   "cell_type": "markdown",
   "metadata": {},
   "source": [
    "$x\\cdot log_2 2 = 8$"
   ]
  },
  {
   "cell_type": "markdown",
   "metadata": {},
   "source": [
    "x = 8"
   ]
  },
  {
   "cell_type": "markdown",
   "metadata": {},
   "source": [
    "<hr>"
   ]
  },
  {
   "cell_type": "markdown",
   "metadata": {},
   "source": [
    "2) $2^x = 300$"
   ]
  },
  {
   "cell_type": "markdown",
   "metadata": {},
   "source": [
    "$x = log_2 300 = \\frac{lg300}{lg2}$"
   ]
  },
  {
   "cell_type": "markdown",
   "metadata": {},
   "source": [
    "<hr>"
   ]
  },
  {
   "cell_type": "markdown",
   "metadata": {},
   "source": [
    "3) $log_8 2^{8x-4} = 4$"
   ]
  },
  {
   "cell_type": "markdown",
   "metadata": {},
   "source": [
    "$8^4 = 2^{8x - 4}$"
   ]
  },
  {
   "cell_type": "markdown",
   "metadata": {},
   "source": [
    "$2^{12} = 2^{8x - 4}$"
   ]
  },
  {
   "cell_type": "markdown",
   "metadata": {},
   "source": [
    "$8x = 16$"
   ]
  },
  {
   "cell_type": "markdown",
   "metadata": {},
   "source": [
    "x = 2"
   ]
  },
  {
   "cell_type": "markdown",
   "metadata": {},
   "source": [
    "<hr>"
   ]
  },
  {
   "cell_type": "markdown",
   "metadata": {},
   "source": [
    "4) $3^{log_9 {5x - 5}} = 5$"
   ]
  },
  {
   "cell_type": "markdown",
   "metadata": {},
   "source": [
    "$(5x-5)\\cdot log_9 3 = 5$"
   ]
  },
  {
   "cell_type": "markdown",
   "metadata": {},
   "source": [
    "$\\sqrt{5x - 5} = 5$"
   ]
  },
  {
   "cell_type": "markdown",
   "metadata": {},
   "source": [
    "$5x = 20$"
   ]
  },
  {
   "cell_type": "markdown",
   "metadata": {},
   "source": [
    "$x = 4$"
   ]
  },
  {
   "cell_type": "markdown",
   "metadata": {},
   "source": [
    "<hr>"
   ]
  },
  {
   "cell_type": "markdown",
   "metadata": {},
   "source": [
    "5) $x^{log_3 {x + 1}} = 9$"
   ]
  },
  {
   "cell_type": "markdown",
   "metadata": {},
   "source": [
    "$log_3 {x^{log_3 {x + 1}}} = log_3 9$"
   ]
  },
  {
   "cell_type": "markdown",
   "metadata": {},
   "source": [
    "$(log_3 x + 1)\\cdot(log_3 x) = 2$"
   ]
  },
  {
   "cell_type": "markdown",
   "metadata": {},
   "source": [
    "$k = log_3 x$"
   ]
  },
  {
   "cell_type": "markdown",
   "metadata": {},
   "source": [
    "$k^2 + k - 2 = 0$"
   ]
  },
  {
   "cell_type": "markdown",
   "metadata": {},
   "source": [
    "$k_1 = 1, k_2 = -2$"
   ]
  },
  {
   "cell_type": "markdown",
   "metadata": {},
   "source": [
    "$\\begin{equation*}\n",
    " \\begin{cases}\n",
    "   log_3 x = 1\n",
    "   \\\\\n",
    "   log_3 x = -2\n",
    " \\end{cases}\n",
    "\\end{equation*}$"
   ]
  },
  {
   "cell_type": "markdown",
   "metadata": {},
   "source": [
    "$x_1 = 3, x_2 = -\\frac{1}{9}$"
   ]
  },
  {
   "cell_type": "markdown",
   "metadata": {},
   "source": [
    "## 4. Задание Свойства логарифмов. Вычислить:"
   ]
  },
  {
   "cell_type": "markdown",
   "metadata": {},
   "source": [
    "6) $log_4 16 = 2$"
   ]
  },
  {
   "cell_type": "markdown",
   "metadata": {},
   "source": [
    "7) $log_5 \\frac{1}{25} = -2$"
   ]
  },
  {
   "cell_type": "markdown",
   "metadata": {},
   "source": [
    "8) $log_{25}5 = \\frac{1}{2}$"
   ]
  },
  {
   "cell_type": "markdown",
   "metadata": {},
   "source": [
    "9) $log_3 {\\sqrt{27}} = \\frac{3}{2}$"
   ]
  },
  {
   "cell_type": "markdown",
   "metadata": {},
   "source": [
    "10) $log_2 {12} - log_2 3 = log_2 \\frac{12}{3} = log_2 4 = 2$"
   ]
  },
  {
   "cell_type": "markdown",
   "metadata": {},
   "source": [
    "11) $log_6 {12} + log_6 3 = log_6 ({12 \\cdot 3}) = log_6 {36} = 2$"
   ]
  },
  {
   "cell_type": "markdown",
   "metadata": {},
   "source": [
    "12) $e^{ln_5} = e^{log_e 5} = 5$"
   ]
  },
  {
   "cell_type": "markdown",
   "metadata": {},
   "source": [
    "13) $\\frac{log_2 {255}}{log_2 {15}} = log_{15} {225} = 2$"
   ]
  },
  {
   "cell_type": "markdown",
   "metadata": {},
   "source": [
    "14) $log_4 {32} + log_{0.1} {10} = 2.5 - 1 = 1.5$"
   ]
  },
  {
   "cell_type": "markdown",
   "metadata": {},
   "source": [
    "15) $9^{log_3 \\sqrt5} = 3^{2\\cdot log_3 \\sqrt5} = 3^{log_3 5} = 5$"
   ]
  }
 ],
 "metadata": {
  "kernelspec": {
   "display_name": "Python 3",
   "language": "python",
   "name": "python3"
  },
  "language_info": {
   "codemirror_mode": {
    "name": "ipython",
    "version": 3
   },
   "file_extension": ".py",
   "mimetype": "text/x-python",
   "name": "python",
   "nbconvert_exporter": "python",
   "pygments_lexer": "ipython3",
   "version": "3.8.2"
  }
 },
 "nbformat": 4,
 "nbformat_minor": 4
}
